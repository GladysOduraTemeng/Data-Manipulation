{
 "cells": [
  {
   "cell_type": "code",
   "execution_count": null,
   "id": "d53be890",
   "metadata": {},
   "outputs": [],
   "source": [
    "pip install requests"
   ]
  },
  {
   "cell_type": "code",
   "execution_count": 3,
   "id": "f2edc21b-d0e8-4e5a-a1d5-d286acb495e8",
   "metadata": {},
   "outputs": [],
   "source": [
    "import requests\n",
    "import json"
   ]
  },
  {
   "cell_type": "code",
   "execution_count": 4,
   "id": "5e05d2d8-1227-44ed-a41f-5b1827d5dc14",
   "metadata": {},
   "outputs": [],
   "source": [
    "response = requests.get('https://randomuser.me/api')"
   ]
  },
  {
   "cell_type": "code",
   "execution_count": 5,
   "id": "af372414-3b64-443e-85b6-c4db0c547325",
   "metadata": {},
   "outputs": [
    {
     "name": "stdout",
     "output_type": "stream",
     "text": [
      "200\n"
     ]
    }
   ],
   "source": [
    " print(response.status_code)"
   ]
  },
  {
   "cell_type": "code",
   "execution_count": 6,
   "id": "762fb1c9-fdd4-4245-8bee-ca38d3c284b8",
   "metadata": {},
   "outputs": [
    {
     "name": "stdout",
     "output_type": "stream",
     "text": [
      "{'results': [{'gender': 'female', 'name': {'title': 'Mrs', 'first': 'Eleanora', 'last': 'Budak'}, 'location': {'street': {'number': 28, 'name': 'Klamptweid'}, 'city': 'Oosterhesselen', 'state': 'Flevoland', 'country': 'Netherlands', 'postcode': '7948 MR', 'coordinates': {'latitude': '31.8518', 'longitude': '8.9109'}, 'timezone': {'offset': '-8:00', 'description': 'Pacific Time (US & Canada)'}}, 'email': 'eleanora.budak@example.com', 'login': {'uuid': '31820ea1-b146-47b9-9165-57018260f64d', 'username': 'goldenfrog504', 'password': 'gareth', 'salt': 'eqyEQLgf', 'md5': '72466baf0d6509c73f5d4aede027c854', 'sha1': '24665e8bf39dde39b702b0271a89257bbe5b64a3', 'sha256': 'e0cf7979ba6039a7aaa8a832e6cc47421fa600c612fd619c1e9a45d405fc718f'}, 'dob': {'date': '1947-01-28T16:42:17.308Z', 'age': 77}, 'registered': {'date': '2004-05-25T22:41:32.036Z', 'age': 20}, 'phone': '(0224) 991089', 'cell': '(06) 79709725', 'id': {'name': 'BSN', 'value': '31108877'}, 'picture': {'large': 'https://randomuser.me/api/portraits/women/49.jpg', 'medium': 'https://randomuser.me/api/portraits/med/women/49.jpg', 'thumbnail': 'https://randomuser.me/api/portraits/thumb/women/49.jpg'}, 'nat': 'NL'}], 'info': {'seed': '975a7f74f7ba60c8', 'results': 1, 'page': 1, 'version': '1.4'}}\n"
     ]
    }
   ],
   "source": [
    "print(response.json())"
   ]
  },
  {
   "cell_type": "code",
   "execution_count": 7,
   "id": "8ed8046a-b49a-4ea1-b405-1c5ec417d4c4",
   "metadata": {},
   "outputs": [
    {
     "name": "stdout",
     "output_type": "stream",
     "text": [
      "female\n"
     ]
    }
   ],
   "source": [
    "gender = response.json()['results'][0]['gender']\n",
    "\n",
    "print(gender)"
   ]
  },
  {
   "cell_type": "code",
   "execution_count": 18,
   "id": "184e81e9-516e-40fd-8396-b011b4088193",
   "metadata": {},
   "outputs": [
    {
     "name": "stdin",
     "output_type": "stream",
     "text": [
      "Enter the city name:  Tema\n"
     ]
    }
   ],
   "source": [
    "city_name = input(\"Enter the city name: \")"
   ]
  },
  {
   "cell_type": "code",
   "execution_count": 19,
   "id": "758cb81f-d6c1-4b6b-bd1f-9c80c8f0753d",
   "metadata": {},
   "outputs": [],
   "source": [
    "api_key = '3a05fe3d0ddbd312856a9e0820c75d8c'"
   ]
  },
  {
   "cell_type": "code",
   "execution_count": null,
   "id": "0f4afdc9-4a73-4664-953c-0feea4228d6e",
   "metadata": {},
   "outputs": [],
   "source": [
    "# To build API URL"
   ]
  },
  {
   "cell_type": "code",
   "execution_count": 21,
   "id": "d3cd2788-f8fa-4980-8971-2479201d0f29",
   "metadata": {},
   "outputs": [],
   "source": [
    "api_url = f'https://api.openweathermap.org/data/2.5/weather?q=Accra&appid=3a05fe3d0ddbd312856a9e0820c75d8c&units=metric'"
   ]
  },
  {
   "cell_type": "code",
   "execution_count": 22,
   "id": "256bc8aa-f345-493f-8420-acdd306bb737",
   "metadata": {},
   "outputs": [],
   "source": [
    "get_server_information = requests.get(api_url)"
   ]
  },
  {
   "cell_type": "code",
   "execution_count": 23,
   "id": "5b905174-dcf7-4b7a-b261-664415a101e3",
   "metadata": {},
   "outputs": [
    {
     "name": "stdout",
     "output_type": "stream",
     "text": [
      "200\n"
     ]
    }
   ],
   "source": [
    "print(get_server_information.status_code)"
   ]
  },
  {
   "cell_type": "code",
   "execution_count": 25,
   "id": "7c2c55f3-4fa4-45b8-badd-c1087f39ffa8",
   "metadata": {},
   "outputs": [
    {
     "name": "stdout",
     "output_type": "stream",
     "text": [
      "{'coord': {'lon': -0.1969, 'lat': 5.556}, 'weather': [{'id': 801, 'main': 'Clouds', 'description': 'few clouds', 'icon': '02d'}], 'base': 'stations', 'main': {'temp': 32.23, 'feels_like': 35.04, 'temp_min': 32.23, 'temp_max': 32.23, 'pressure': 1010, 'humidity': 51, 'sea_level': 1010, 'grnd_level': 1007}, 'visibility': 8000, 'wind': {'speed': 3.6, 'deg': 100}, 'clouds': {'all': 20}, 'dt': 1732980029, 'sys': {'type': 1, 'id': 1126, 'country': 'GH', 'sunrise': 1732946103, 'sunset': 1732988669}, 'timezone': 0, 'id': 2306104, 'name': 'Accra', 'cod': 200}\n"
     ]
    }
   ],
   "source": [
    "print(get_server_information.json())"
   ]
  },
  {
   "cell_type": "code",
   "execution_count": null,
   "id": "d24686b1-386e-44c8-b652-f2a91f4f10ba",
   "metadata": {},
   "outputs": [],
   "source": []
  },
  {
   "cell_type": "code",
   "execution_count": null,
   "id": "1c0bfe5d-a6a9-4c3d-94f1-5ebd7234d1af",
   "metadata": {},
   "outputs": [],
   "source": []
  },
  {
   "cell_type": "code",
   "execution_count": null,
   "id": "4c064903-bc54-40ae-bf5a-8acd530edf90",
   "metadata": {},
   "outputs": [],
   "source": []
  },
  {
   "cell_type": "code",
   "execution_count": null,
   "id": "c3ac5a4f-2f2e-4d8c-b898-b2d5d9fe6a3a",
   "metadata": {},
   "outputs": [],
   "source": []
  },
  {
   "cell_type": "code",
   "execution_count": null,
   "id": "efc9f8cd-50e9-441d-9478-098d3e72f8ae",
   "metadata": {},
   "outputs": [],
   "source": []
  },
  {
   "cell_type": "code",
   "execution_count": null,
   "id": "4da8ee0d-65a5-496a-aaff-af7e5ef97461",
   "metadata": {},
   "outputs": [],
   "source": []
  },
  {
   "cell_type": "code",
   "execution_count": null,
   "id": "d34c946e-829a-435e-9257-f53a340a6ddd",
   "metadata": {},
   "outputs": [],
   "source": []
  },
  {
   "cell_type": "code",
   "execution_count": null,
   "id": "2d41baa1-53f9-43c1-8807-63765e43b33f",
   "metadata": {},
   "outputs": [],
   "source": []
  },
  {
   "cell_type": "code",
   "execution_count": null,
   "id": "8f3f5da2-f18a-42b7-aaf4-32235c31799e",
   "metadata": {},
   "outputs": [],
   "source": []
  },
  {
   "cell_type": "code",
   "execution_count": null,
   "id": "c30fbfdb-e143-47c3-83ec-84269ec653ae",
   "metadata": {},
   "outputs": [],
   "source": []
  }
 ],
 "metadata": {
  "kernelspec": {
   "display_name": "Python 3 (ipykernel)",
   "language": "python",
   "name": "python3"
  },
  "language_info": {
   "codemirror_mode": {
    "name": "ipython",
    "version": 3
   },
   "file_extension": ".py",
   "mimetype": "text/x-python",
   "name": "python",
   "nbconvert_exporter": "python",
   "pygments_lexer": "ipython3",
   "version": "3.11.5"
  }
 },
 "nbformat": 4,
 "nbformat_minor": 5
}
